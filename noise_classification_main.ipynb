{
 "cells": [
  {
   "cell_type": "code",
   "execution_count": 1,
   "metadata": {
    "colab": {
     "base_uri": "https://localhost:8080/"
    },
    "id": "WsNck7fXX_bG",
    "outputId": "3841a2c8-fe5e-42f1-d637-be32462b95b3"
   },
   "outputs": [],
   "source": [
    "import os\n",
    "import sys\n",
    "import glob \n",
    "import random\n",
    "import warnings\n",
    "from tqdm import tqdm\n",
    "\n",
    "import numpy as np\n",
    "import pandas as pd\n",
    "from statsmodels import robust\n",
    "\n",
    "import librosa\n",
    "import librosa.display\n",
    "\n",
    "import matplotlib.pyplot as plt\n",
    "from matplotlib.pyplot import specgram\n",
    "import IPython.display as ipd \n",
    "\n",
    "import tensorflow as tf\n",
    "import tensorflow.keras.models as models\n",
    "import tensorflow.keras.layers as layers\n",
    "\n",
    "from sklearn.metrics import confusion_matrix\n",
    "from sklearn.model_selection import train_test_split\n",
    "\n",
    "%matplotlib inline"
   ]
  },
  {
   "cell_type": "code",
   "execution_count": 2,
   "metadata": {
    "id": "tK8Z2Me6CuMk"
   },
   "outputs": [],
   "source": [
    "#initializing all the file path to a variable\n",
    "AUDIO_PATH = r'C:\\Users\\moham\\Desktop\\noise_classification\\esc50 and YBSS-200'\n",
    "CSV_PATH =  r'C:\\Users\\moham\\Desktop\\noise_classification\\csv files\\esc50andYBSS200.csv'\n",
    "CSV_PATH1 = r'C:\\Users\\moham\\Desktop\\noise_classification\\csv files\\first5keywords.csv'\n",
    "CSV_PATH2 = r'C:\\Users\\moham\\Desktop\\noise_classification\\csv files\\first10keywords.csv'\n",
    "CSV_PATH3 = r'C:\\Users\\moham\\Desktop\\noise_classification\\csv files\\first15keywords.csv'\n",
    "CSV_PATH4 = r'C:\\Users\\moham\\Desktop\\noise_classification\\csv files\\YBSS_dataset.csv'\n",
    "CSV_PATH5 = r'C:\\Users\\moham\\Desktop\\noise_classification\\csv files\\esc50new.csv'"
   ]
  },
  {
   "cell_type": "markdown",
   "metadata": {
    "id": "ctuhOPQ4CJmk"
   },
   "source": [
    "## Part 1: Primary data analysis\n"
   ]
  },
  {
   "cell_type": "code",
   "execution_count": 3,
   "metadata": {
    "colab": {
     "base_uri": "https://localhost:8080/",
     "height": 223
    },
    "id": "0vd3XnyAW9j9",
    "outputId": "4b81e6df-c23b-4237-891f-ac5e9288b475"
   },
   "outputs": [
    {
     "name": "stdout",
     "output_type": "stream",
     "text": [
      "shape of df:  (600, 7)\n"
     ]
    },
    {
     "data": {
      "text/html": [
       "<div>\n",
       "<style scoped>\n",
       "    .dataframe tbody tr th:only-of-type {\n",
       "        vertical-align: middle;\n",
       "    }\n",
       "\n",
       "    .dataframe tbody tr th {\n",
       "        vertical-align: top;\n",
       "    }\n",
       "\n",
       "    .dataframe thead th {\n",
       "        text-align: right;\n",
       "    }\n",
       "</style>\n",
       "<table border=\"1\" class=\"dataframe\">\n",
       "  <thead>\n",
       "    <tr style=\"text-align: right;\">\n",
       "      <th></th>\n",
       "      <th>filename</th>\n",
       "      <th>fold</th>\n",
       "      <th>target</th>\n",
       "      <th>category</th>\n",
       "      <th>esc10</th>\n",
       "      <th>src_file</th>\n",
       "      <th>take</th>\n",
       "    </tr>\n",
       "  </thead>\n",
       "  <tbody>\n",
       "    <tr>\n",
       "      <th>0</th>\n",
       "      <td>1-100032-A-0.wav</td>\n",
       "      <td>1</td>\n",
       "      <td>0</td>\n",
       "      <td>dog</td>\n",
       "      <td>True</td>\n",
       "      <td>100032</td>\n",
       "      <td>A</td>\n",
       "    </tr>\n",
       "    <tr>\n",
       "      <th>1</th>\n",
       "      <td>1-100038-A-14.wav</td>\n",
       "      <td>1</td>\n",
       "      <td>14</td>\n",
       "      <td>chirping_birds</td>\n",
       "      <td>False</td>\n",
       "      <td>100038</td>\n",
       "      <td>A</td>\n",
       "    </tr>\n",
       "    <tr>\n",
       "      <th>2</th>\n",
       "      <td>1-101336-A-30.wav</td>\n",
       "      <td>1</td>\n",
       "      <td>30</td>\n",
       "      <td>door_wood_knock</td>\n",
       "      <td>False</td>\n",
       "      <td>101336</td>\n",
       "      <td>A</td>\n",
       "    </tr>\n",
       "    <tr>\n",
       "      <th>3</th>\n",
       "      <td>1-103995-A-30.wav</td>\n",
       "      <td>1</td>\n",
       "      <td>30</td>\n",
       "      <td>door_wood_knock</td>\n",
       "      <td>False</td>\n",
       "      <td>103995</td>\n",
       "      <td>A</td>\n",
       "    </tr>\n",
       "    <tr>\n",
       "      <th>4</th>\n",
       "      <td>1-103999-A-30.wav</td>\n",
       "      <td>1</td>\n",
       "      <td>30</td>\n",
       "      <td>door_wood_knock</td>\n",
       "      <td>False</td>\n",
       "      <td>103999</td>\n",
       "      <td>A</td>\n",
       "    </tr>\n",
       "  </tbody>\n",
       "</table>\n",
       "</div>"
      ],
      "text/plain": [
       "            filename  fold  target         category  esc10  src_file take\n",
       "0   1-100032-A-0.wav     1       0              dog   True    100032    A\n",
       "1  1-100038-A-14.wav     1      14   chirping_birds  False    100038    A\n",
       "2  1-101336-A-30.wav     1      30  door_wood_knock  False    101336    A\n",
       "3  1-103995-A-30.wav     1      30  door_wood_knock  False    103995    A\n",
       "4  1-103999-A-30.wav     1      30  door_wood_knock  False    103999    A"
      ]
     },
     "execution_count": 3,
     "metadata": {},
     "output_type": "execute_result"
    }
   ],
   "source": [
    "df = pd.read_csv(CSV_PATH3)\n",
    "print(\"shape of df: \", df.shape)\n",
    "df.head()\n",
    "\n",
    "#checking the content of the file"
   ]
  },
  {
   "cell_type": "code",
   "execution_count": 4,
   "metadata": {
    "colab": {
     "base_uri": "https://localhost:8080/"
    },
    "id": "TwTPAZUEfzol",
    "outputId": "386bcb90-afb0-41d4-b008-b3294e3e7f2a"
   },
   "outputs": [
    {
     "name": "stdout",
     "output_type": "stream",
     "text": [
      "shape of df:  (600, 3)\n",
      "              filename  target         category\n",
      "0     1-100032-A-0.wav       0              dog\n",
      "1    1-100038-A-14.wav      14   chirping_birds\n",
      "2    1-101336-A-30.wav      30  door_wood_knock\n",
      "3    1-103995-A-30.wav      30  door_wood_knock\n",
      "4    1-103999-A-30.wav      30  door_wood_knock\n",
      "..                 ...     ...              ...\n",
      "595  5-263490-A-25.wav      25        footsteps\n",
      "596  5-263491-A-25.wav      25        footsteps\n",
      "597  5-263501-A-25.wav      25        footsteps\n",
      "598   5-51149-A-25.wav      25        footsteps\n",
      "599     5-9032-A-0.wav       0              dog\n",
      "\n",
      "[600 rows x 3 columns]\n"
     ]
    }
   ],
   "source": [
    "df=df.drop(['fold','esc10','src_file','take'], axis=1)\n",
    "print(\"shape of df: \", df.shape)\n",
    "print(df)\n",
    "#filtering the table and removing the unwanted data"
   ]
  },
  {
   "cell_type": "code",
   "execution_count": 5,
   "metadata": {
    "colab": {
     "base_uri": "https://localhost:8080/"
    },
    "id": "v2VfxtizW9Vu",
    "outputId": "98558e91-eb27-41a6-94d3-543ab39692f7"
   },
   "outputs": [
    {
     "data": {
      "text/plain": [
       "filename    0\n",
       "target      0\n",
       "category    0\n",
       "dtype: int64"
      ]
     },
     "execution_count": 5,
     "metadata": {},
     "output_type": "execute_result"
    }
   ],
   "source": [
    "#check NAS\n",
    "df.isna().sum()\n",
    "#checking for any file empty "
   ]
  },
  {
   "cell_type": "code",
   "execution_count": 6,
   "metadata": {
    "colab": {
     "base_uri": "https://localhost:8080/"
    },
    "id": "eXGYtMZ0cgl3",
    "outputId": "166c20ec-dfb7-44ac-ddaf-674f5e55a983"
   },
   "outputs": [
    {
     "data": {
      "text/plain": [
       "15"
      ]
     },
     "execution_count": 6,
     "metadata": {},
     "output_type": "execute_result"
    }
   ],
   "source": [
    "NUM_CLASSES = len(df['category'].unique())\n",
    "len(df['category'].unique())\n",
    "\n",
    "#printing all the unique catagories "
   ]
  },
  {
   "cell_type": "code",
   "execution_count": 7,
   "metadata": {
    "colab": {
     "base_uri": "https://localhost:8080/"
    },
    "id": "IxpwL1hhf7Qt",
    "outputId": "b234f718-2794-4ca4-85cf-900f0a0656fe"
   },
   "outputs": [
    {
     "data": {
      "text/plain": [
       "target\n",
       "0     40\n",
       "14    40\n",
       "30    40\n",
       "47    40\n",
       "31    40\n",
       "32    40\n",
       "16    40\n",
       "25    40\n",
       "43    40\n",
       "29    40\n",
       "7     40\n",
       "24    40\n",
       "21    40\n",
       "5     40\n",
       "33    40\n",
       "Name: count, dtype: int64"
      ]
     },
     "execution_count": 7,
     "metadata": {},
     "output_type": "execute_result"
    }
   ],
   "source": [
    "df['target'].value_counts()\n",
    "\n",
    "#checking if all classes have 40 audio files"
   ]
  },
  {
   "cell_type": "code",
   "execution_count": 8,
   "metadata": {
    "colab": {
     "base_uri": "https://localhost:8080/"
    },
    "id": "v66smL1VdODB",
    "outputId": "d1325248-d05c-4e39-f989-8da0881a1480"
   },
   "outputs": [
    {
     "data": {
      "text/plain": [
       "True"
      ]
     },
     "execution_count": 8,
     "metadata": {},
     "output_type": "execute_result"
    }
   ],
   "source": [
    "len(df) == len(df['filename'].unique())"
   ]
  },
  {
   "cell_type": "code",
   "execution_count": 9,
   "metadata": {
    "colab": {
     "base_uri": "https://localhost:8080/"
    },
    "id": "yATrXmk0dqWs",
    "outputId": "5f77a246-d86a-4c42-a039-eae30c85b8bb"
   },
   "outputs": [
    {
     "data": {
      "text/plain": [
       "array(['dog', 'chirping_birds', 'door_wood_knock', 'airplane',\n",
       "       'mouse_click', 'keyboard_typing', 'wind', 'footsteps', 'car_horn',\n",
       "       'drinking_sipping', 'insects', 'coughing', 'sneezing', 'cat',\n",
       "       'door_wood_creaks'], dtype=object)"
      ]
     },
     "execution_count": 9,
     "metadata": {},
     "output_type": "execute_result"
    }
   ],
   "source": [
    "classes = df['category'].unique()\n",
    "classes"
   ]
  },
  {
   "cell_type": "markdown",
   "metadata": {
    "id": "jVDUPlGXhkJK"
   },
   "source": [
    "## Part 2: Analysis of audio tracks"
   ]
  },
  {
   "cell_type": "code",
   "execution_count": 10,
   "metadata": {
    "colab": {
     "base_uri": "https://localhost:8080/",
     "height": 424
    },
    "id": "gY3z5qgwZsiT",
    "outputId": "41ecc34d-f17c-4d92-f58c-05c426ddd470"
   },
   "outputs": [
    {
     "data": {
      "text/html": [
       "<div>\n",
       "<style scoped>\n",
       "    .dataframe tbody tr th:only-of-type {\n",
       "        vertical-align: middle;\n",
       "    }\n",
       "\n",
       "    .dataframe tbody tr th {\n",
       "        vertical-align: top;\n",
       "    }\n",
       "\n",
       "    .dataframe thead th {\n",
       "        text-align: right;\n",
       "    }\n",
       "</style>\n",
       "<table border=\"1\" class=\"dataframe\">\n",
       "  <thead>\n",
       "    <tr style=\"text-align: right;\">\n",
       "      <th></th>\n",
       "      <th>filename</th>\n",
       "      <th>target</th>\n",
       "      <th>category</th>\n",
       "    </tr>\n",
       "  </thead>\n",
       "  <tbody>\n",
       "    <tr>\n",
       "      <th>0</th>\n",
       "      <td>1-100032-A-0.wav</td>\n",
       "      <td>0</td>\n",
       "      <td>dog</td>\n",
       "    </tr>\n",
       "    <tr>\n",
       "      <th>1</th>\n",
       "      <td>1-100038-A-14.wav</td>\n",
       "      <td>1</td>\n",
       "      <td>chirping_birds</td>\n",
       "    </tr>\n",
       "    <tr>\n",
       "      <th>2</th>\n",
       "      <td>1-101336-A-30.wav</td>\n",
       "      <td>2</td>\n",
       "      <td>door_wood_knock</td>\n",
       "    </tr>\n",
       "    <tr>\n",
       "      <th>3</th>\n",
       "      <td>1-103995-A-30.wav</td>\n",
       "      <td>2</td>\n",
       "      <td>door_wood_knock</td>\n",
       "    </tr>\n",
       "    <tr>\n",
       "      <th>4</th>\n",
       "      <td>1-103999-A-30.wav</td>\n",
       "      <td>2</td>\n",
       "      <td>door_wood_knock</td>\n",
       "    </tr>\n",
       "    <tr>\n",
       "      <th>...</th>\n",
       "      <td>...</td>\n",
       "      <td>...</td>\n",
       "      <td>...</td>\n",
       "    </tr>\n",
       "    <tr>\n",
       "      <th>595</th>\n",
       "      <td>5-263490-A-25.wav</td>\n",
       "      <td>7</td>\n",
       "      <td>footsteps</td>\n",
       "    </tr>\n",
       "    <tr>\n",
       "      <th>596</th>\n",
       "      <td>5-263491-A-25.wav</td>\n",
       "      <td>7</td>\n",
       "      <td>footsteps</td>\n",
       "    </tr>\n",
       "    <tr>\n",
       "      <th>597</th>\n",
       "      <td>5-263501-A-25.wav</td>\n",
       "      <td>7</td>\n",
       "      <td>footsteps</td>\n",
       "    </tr>\n",
       "    <tr>\n",
       "      <th>598</th>\n",
       "      <td>5-51149-A-25.wav</td>\n",
       "      <td>7</td>\n",
       "      <td>footsteps</td>\n",
       "    </tr>\n",
       "    <tr>\n",
       "      <th>599</th>\n",
       "      <td>5-9032-A-0.wav</td>\n",
       "      <td>0</td>\n",
       "      <td>dog</td>\n",
       "    </tr>\n",
       "  </tbody>\n",
       "</table>\n",
       "<p>600 rows × 3 columns</p>\n",
       "</div>"
      ],
      "text/plain": [
       "              filename  target         category\n",
       "0     1-100032-A-0.wav       0              dog\n",
       "1    1-100038-A-14.wav       1   chirping_birds\n",
       "2    1-101336-A-30.wav       2  door_wood_knock\n",
       "3    1-103995-A-30.wav       2  door_wood_knock\n",
       "4    1-103999-A-30.wav       2  door_wood_knock\n",
       "..                 ...     ...              ...\n",
       "595  5-263490-A-25.wav       7        footsteps\n",
       "596  5-263491-A-25.wav       7        footsteps\n",
       "597  5-263501-A-25.wav       7        footsteps\n",
       "598   5-51149-A-25.wav       7        footsteps\n",
       "599     5-9032-A-0.wav       0              dog\n",
       "\n",
       "[600 rows x 3 columns]"
      ]
     },
     "execution_count": 10,
     "metadata": {},
     "output_type": "execute_result"
    }
   ],
   "source": [
    "## an instance of each class\n",
    "unique_class_df = df.drop_duplicates(subset=['target'])\n",
    "unique_class_df.head()\n",
    "classes = df['category'].unique()\n",
    "class_dict = {i:x for x,i in enumerate(classes)}\n",
    "df['target'] = df['category'].map(class_dict)\n",
    "df\n"
   ]
  },
  {
   "cell_type": "code",
   "execution_count": 11,
   "metadata": {
    "colab": {
     "base_uri": "https://localhost:8080/"
    },
    "id": "WFMFZXgzKhnd",
    "outputId": "03c07bc6-4b81-4a7b-b5e6-d4360390f18f"
   },
   "outputs": [
    {
     "name": "stderr",
     "output_type": "stream",
     "text": [
      "Progress: 0it [00:00, ?it/s]C:\\Users\\moham\\AppData\\Local\\Temp\\ipykernel_6292\\2922706038.py:4: FutureWarning: Series.__getitem__ treating keys as positions is deprecated. In a future version, integer keys will always be treated as labels (consistent with DataFrame behavior). To access a value by position, use `ser.iloc[pos]`\n",
      "  sig , sr = librosa.load(AUDIO_PATH + \"\\\\\" + data[1][0],sr = 44100)\n",
      "Progress: 1it [00:02,  2.15s/it]C:\\Users\\moham\\AppData\\Local\\Temp\\ipykernel_6292\\2922706038.py:4: FutureWarning: Series.__getitem__ treating keys as positions is deprecated. In a future version, integer keys will always be treated as labels (consistent with DataFrame behavior). To access a value by position, use `ser.iloc[pos]`\n",
      "  sig , sr = librosa.load(AUDIO_PATH + \"\\\\\" + data[1][0],sr = 44100)\n",
      "C:\\Users\\moham\\AppData\\Local\\Temp\\ipykernel_6292\\2922706038.py:10: FutureWarning: Series.__getitem__ treating keys as positions is deprecated. In a future version, integer keys will always be treated as labels (consistent with DataFrame behavior). To access a value by position, use `ser.iloc[pos]`\n",
      "  y.append(data[1][1])\n",
      "C:\\Users\\moham\\AppData\\Local\\Temp\\ipykernel_6292\\2922706038.py:15: FutureWarning: Series.__getitem__ treating keys as positions is deprecated. In a future version, integer keys will always be treated as labels (consistent with DataFrame behavior). To access a value by position, use `ser.iloc[pos]`\n",
      "  y.append(data[1][1])\n",
      "C:\\Users\\moham\\AppData\\Local\\Temp\\ipykernel_6292\\2922706038.py:20: FutureWarning: Series.__getitem__ treating keys as positions is deprecated. In a future version, integer keys will always be treated as labels (consistent with DataFrame behavior). To access a value by position, use `ser.iloc[pos]`\n",
      "  y.append(data[1][1])\n",
      "C:\\Users\\moham\\AppData\\Local\\Temp\\ipykernel_6292\\2922706038.py:4: FutureWarning: Series.__getitem__ treating keys as positions is deprecated. In a future version, integer keys will always be treated as labels (consistent with DataFrame behavior). To access a value by position, use `ser.iloc[pos]`\n",
      "  sig , sr = librosa.load(AUDIO_PATH + \"\\\\\" + data[1][0],sr = 44100)\n",
      "Progress: 600it [00:15, 38.97it/s]\n"
     ]
    }
   ],
   "source": [
    "X = []\n",
    "y = []\n",
    "for data in tqdm(df.iterrows(),  desc='Progress'):\n",
    "    sig , sr = librosa.load(AUDIO_PATH + \"\\\\\" + data[1][0],sr = 44100)\n",
    "    #taking 3 windows from 0-2 , 2-4 , 3-5 seconds\n",
    "    sig_ = sig[0 : 88200]\n",
    "    if robust.mad(sig_, axis=0) > 1e-4:\n",
    "        mfcc_ = librosa.feature.mfcc(y=sig_ , sr=sr,hop_length = 512, n_mfcc=40)\n",
    "        X.append(mfcc_)\n",
    "        y.append(data[1][1])\n",
    "    sig_ = sig[88200 : 176400]\n",
    "    if robust.mad(sig_, axis=0) > 1e-4:\n",
    "        mfcc_ = librosa.feature.mfcc(y=sig_ , sr=sr,hop_length = 512, n_mfcc=40)\n",
    "        X.append(mfcc_)\n",
    "        y.append(data[1][1])\n",
    "    sig_ = sig[132300 : 220500]\n",
    "    if robust.mad(sig_, axis=0) > 1e-4:\n",
    "        mfcc_ = librosa.feature.mfcc(y=sig_ , sr=sr,hop_length = 512, n_mfcc=40)\n",
    "        X.append(mfcc_)\n",
    "        y.append(data[1][1])"
   ]
  },
  {
   "cell_type": "code",
   "execution_count": 14,
   "metadata": {},
   "outputs": [
    {
     "ename": "AttributeError",
     "evalue": "'_process_plot_var_args' object has no attribute 'prop_cycler'",
     "output_type": "error",
     "traceback": [
      "\u001b[1;31m---------------------------------------------------------------------------\u001b[0m",
      "\u001b[1;31mAttributeError\u001b[0m                            Traceback (most recent call last)",
      "Cell \u001b[1;32mIn[14], line 5\u001b[0m\n\u001b[0;32m      3\u001b[0m plt\u001b[38;5;241m.\u001b[39mfigure(figsize\u001b[38;5;241m=\u001b[39m(\u001b[38;5;241m10\u001b[39m,\u001b[38;5;241m3\u001b[39m))\n\u001b[0;32m      4\u001b[0m plt\u001b[38;5;241m.\u001b[39mtitle(\u001b[38;5;124m\"\u001b[39m\u001b[38;5;124mSingle Bark Wave Plot\u001b[39m\u001b[38;5;124m\"\u001b[39m)\n\u001b[1;32m----> 5\u001b[0m \u001b[43mlibrosa\u001b[49m\u001b[38;5;241;43m.\u001b[39;49m\u001b[43mdisplay\u001b[49m\u001b[38;5;241;43m.\u001b[39;49m\u001b[43mwaveshow\u001b[49m\u001b[43m(\u001b[49m\u001b[43my\u001b[49m\u001b[38;5;241;43m=\u001b[39;49m\u001b[43msig_\u001b[49m\u001b[43m,\u001b[49m\u001b[43m \u001b[49m\u001b[43msr\u001b[49m\u001b[38;5;241;43m=\u001b[39;49m\u001b[43msr\u001b[49m\u001b[43m)\u001b[49m\n\u001b[0;32m      6\u001b[0m plt\u001b[38;5;241m.\u001b[39mshow()\n",
      "File \u001b[1;32mc:\\Users\\moham\\.conda\\envs\\tf\\lib\\site-packages\\librosa\\display.py:2042\u001b[0m, in \u001b[0;36mwaveshow\u001b[1;34m(y, sr, max_points, axis, offset, marker, where, label, transpose, ax, x_axis, **kwargs)\u001b[0m\n\u001b[0;32m   2032\u001b[0m axis \u001b[38;5;241m=\u001b[39m rename_kw(\n\u001b[0;32m   2033\u001b[0m     old_name\u001b[38;5;241m=\u001b[39m\u001b[38;5;124m\"\u001b[39m\u001b[38;5;124mx_axis\u001b[39m\u001b[38;5;124m\"\u001b[39m,\n\u001b[0;32m   2034\u001b[0m     old_value\u001b[38;5;241m=\u001b[39mx_axis,\n\u001b[1;32m   (...)\u001b[0m\n\u001b[0;32m   2038\u001b[0m     version_removed\u001b[38;5;241m=\u001b[39m\u001b[38;5;124m\"\u001b[39m\u001b[38;5;124m1.0\u001b[39m\u001b[38;5;124m\"\u001b[39m,\n\u001b[0;32m   2039\u001b[0m )\n\u001b[0;32m   2041\u001b[0m \u001b[38;5;28;01mif\u001b[39;00m \u001b[38;5;124m\"\u001b[39m\u001b[38;5;124mcolor\u001b[39m\u001b[38;5;124m\"\u001b[39m \u001b[38;5;129;01mnot\u001b[39;00m \u001b[38;5;129;01min\u001b[39;00m kwargs:\n\u001b[1;32m-> 2042\u001b[0m     kwargs\u001b[38;5;241m.\u001b[39msetdefault(\u001b[38;5;124m\"\u001b[39m\u001b[38;5;124mcolor\u001b[39m\u001b[38;5;124m\"\u001b[39m, \u001b[38;5;28mnext\u001b[39m(\u001b[43maxes\u001b[49m\u001b[38;5;241;43m.\u001b[39;49m\u001b[43m_get_lines\u001b[49m\u001b[38;5;241;43m.\u001b[39;49m\u001b[43mprop_cycler\u001b[49m)[\u001b[38;5;124m\"\u001b[39m\u001b[38;5;124mcolor\u001b[39m\u001b[38;5;124m\"\u001b[39m])\n\u001b[0;32m   2044\u001b[0m \u001b[38;5;66;03m# Reduce by envelope calculation\u001b[39;00m\n\u001b[0;32m   2045\u001b[0m \u001b[38;5;66;03m# this choice of hop ensures that the envelope has at most max_points values\u001b[39;00m\n\u001b[0;32m   2046\u001b[0m hop_length \u001b[38;5;241m=\u001b[39m \u001b[38;5;28mmax\u001b[39m(\u001b[38;5;241m1\u001b[39m, y\u001b[38;5;241m.\u001b[39mshape[\u001b[38;5;241m-\u001b[39m\u001b[38;5;241m1\u001b[39m] \u001b[38;5;241m/\u001b[39m\u001b[38;5;241m/\u001b[39m max_points)\n",
      "\u001b[1;31mAttributeError\u001b[0m: '_process_plot_var_args' object has no attribute 'prop_cycler'"
     ]
    },
    {
     "data": {
      "image/png": "[encoded data removed]",
      "text/plain": [
       "<Figure size 1000x300 with 1 Axes>"
      ]
     },
     "metadata": {},
     "output_type": "display_data"
    }
   ],
   "source": [
    "import matplotlib.pyplot as plt\n",
    "import librosa.display\n",
    "plt.figure(figsize=(10,3))\n",
    "plt.title(\"Single Bark Wave Plot\")\n",
    "librosa.display.waveshow(y=sig_, sr=sr)\n",
    "plt.show()\n"
   ]
  },
  {
   "cell_type": "code",
   "execution_count": 15,
   "metadata": {
    "id": "MEgo82QjTYdX"
   },
   "outputs": [],
   "source": [
    "X = np.array(X) \n",
    "y = np.array(y)"
   ]
  },
  {
   "cell_type": "code",
   "execution_count": 16,
   "metadata": {
    "colab": {
     "base_uri": "https://localhost:8080/"
    },
    "id": "W4Pl6F_hT8mF",
    "outputId": "00fb8fe6-24ff-4c0f-ba74-2ede75bf67ef"
   },
   "outputs": [
    {
     "name": "stdout",
     "output_type": "stream",
     "text": [
      "X Shape is:  (1468, 40, 173)\n",
      "y Shape is:  (1468,)\n"
     ]
    }
   ],
   "source": [
    "print(\"X Shape is: \", X.shape)\n",
    "print(\"y Shape is: \", y.shape)"
   ]
  },
  {
   "cell_type": "code",
   "execution_count": 17,
   "metadata": {
    "id": "DXNMizg6KhkE"
   },
   "outputs": [],
   "source": [
    "y = tf.keras.utils.to_categorical(y , num_classes=15)\n",
    "X = X.reshape(X.shape[0], X.shape[1], X.shape[2], 1)"
   ]
  },
  {
   "cell_type": "code",
   "execution_count": 18,
   "metadata": {
    "id": "4dYS7to3KhiJ"
   },
   "outputs": [],
   "source": [
    "X_train , X_test , y_train , y_test = train_test_split(X , y ,test_size=0.2, random_state=42)"
   ]
  },
  {
   "cell_type": "code",
   "execution_count": 19,
   "metadata": {
    "id": "HzxaBlY3KhgK"
   },
   "outputs": [],
   "source": [
    "INPUTSHAPE = (40,173,1)"
   ]
  },
  {
   "cell_type": "code",
   "execution_count": 20,
   "metadata": {},
   "outputs": [
    {
     "data": {
      "text/plain": [
       "(1468, 15)"
      ]
     },
     "execution_count": 20,
     "metadata": {},
     "output_type": "execute_result"
    }
   ],
   "source": [
    "y.shape"
   ]
  },
  {
   "cell_type": "code",
   "execution_count": 21,
   "metadata": {
    "colab": {
     "base_uri": "https://localhost:8080/"
    },
    "id": "pUmQmIddThwW",
    "outputId": "82a196a2-c374-4600-cbb9-3520800db9ba"
   },
   "outputs": [
    {
     "name": "stdout",
     "output_type": "stream",
     "text": [
      "Model: \"sequential\"\n",
      "_________________________________________________________________\n",
      " Layer (type)                Output Shape              Param #   \n",
      "=================================================================\n",
      " conv2d (Conv2D)             (None, 38, 171, 32)       320       \n",
      "                                                                 \n",
      " max_pooling2d (MaxPooling2D  (None, 19, 86, 32)       0         \n",
      " )                                                               \n",
      "                                                                 \n",
      " conv2d_1 (Conv2D)           (None, 17, 84, 128)       36992     \n",
      "                                                                 \n",
      " max_pooling2d_1 (MaxPooling  (None, 9, 42, 128)       0         \n",
      " 2D)                                                             \n",
      "                                                                 \n",
      " dropout (Dropout)           (None, 9, 42, 128)        0         \n",
      "                                                                 \n",
      " conv2d_2 (Conv2D)           (None, 7, 40, 128)        147584    \n",
      "                                                                 \n",
      " max_pooling2d_2 (MaxPooling  (None, 4, 20, 128)       0         \n",
      " 2D)                                                             \n",
      "                                                                 \n",
      " dropout_1 (Dropout)         (None, 4, 20, 128)        0         \n",
      "                                                                 \n",
      " global_average_pooling2d (G  (None, 128)              0         \n",
      " lobalAveragePooling2D)                                          \n",
      "                                                                 \n",
      " dense (Dense)               (None, 512)               66048     \n",
      "                                                                 \n",
      " dense_1 (Dense)             (None, 15)                7695      \n",
      "                                                                 \n",
      "=================================================================\n",
      "Total params: 258,639\n",
      "Trainable params: 258,639\n",
      "Non-trainable params: 0\n",
      "_________________________________________________________________\n"
     ]
    }
   ],
   "source": [
    "model =  models.Sequential([\n",
    "    \n",
    "  layers.Conv2D(32 , (3,3),activation = 'relu',padding='valid', input_shape = INPUTSHAPE),  \n",
    "  layers.MaxPooling2D(2, padding='same'),\n",
    "  layers.Conv2D(128, (3,3), activation='relu',padding='valid'),\n",
    "  layers.MaxPooling2D(2, padding='same'),\n",
    "  layers.Dropout(0.3),\n",
    "  layers.Conv2D(128, (3,3), activation='relu',padding='valid'),\n",
    "  layers.MaxPooling2D(2, padding='same'),\n",
    "  layers.Dropout(0.3),\n",
    "  layers.GlobalAveragePooling2D(),\n",
    "  \n",
    "  layers.Dense(512 , activation = 'relu'),\n",
    "  layers.Dense(15, activation = 'softmax')\n",
    "])\n",
    "\n",
    "model.compile(loss = 'categorical_crossentropy', optimizer = 'Nadam', metrics = 'acc')\n",
    "model.summary()"
   ]
  },
  {
   "cell_type": "code",
   "execution_count": 22,
   "metadata": {
    "colab": {
     "base_uri": "https://localhost:8080/"
    },
    "id": "Rxa1JYyXFJUA",
    "outputId": "6ccaa28d-307c-4d05-aada-e08ecc7e416a"
   },
   "outputs": [
    {
     "name": "stdout",
     "output_type": "stream",
     "text": [
      "Epoch 1/25\n",
      "79/79 [==============================] - 5s 21ms/step - loss: 2.2625 - acc: 0.2581 - val_loss: 1.9137 - val_acc: 0.3367\n",
      "Epoch 2/25\n",
      "79/79 [==============================] - 1s 14ms/step - loss: 1.5608 - acc: 0.4855 - val_loss: 1.7869 - val_acc: 0.4252\n",
      "Epoch 3/25\n",
      "79/79 [==============================] - 1s 14ms/step - loss: 1.2984 - acc: 0.5613 - val_loss: 1.3291 - val_acc: 0.5442\n",
      "Epoch 4/25\n",
      "79/79 [==============================] - 1s 14ms/step - loss: 1.1153 - acc: 0.6269 - val_loss: 1.2600 - val_acc: 0.6190\n",
      "Epoch 5/25\n",
      "79/79 [==============================] - 1s 14ms/step - loss: 0.9514 - acc: 0.6942 - val_loss: 1.1537 - val_acc: 0.6327\n",
      "Epoch 6/25\n",
      "79/79 [==============================] - 1s 14ms/step - loss: 0.8152 - acc: 0.7334 - val_loss: 1.1478 - val_acc: 0.6463\n",
      "Epoch 7/25\n",
      "79/79 [==============================] - 1s 13ms/step - loss: 0.7120 - acc: 0.7649 - val_loss: 1.2115 - val_acc: 0.6259\n",
      "Epoch 8/25\n",
      "79/79 [==============================] - 1s 13ms/step - loss: 0.7025 - acc: 0.7853 - val_loss: 1.2816 - val_acc: 0.6361\n",
      "Epoch 9/25\n",
      "79/79 [==============================] - 1s 13ms/step - loss: 0.6036 - acc: 0.8024 - val_loss: 0.9921 - val_acc: 0.7279\n",
      "Epoch 10/25\n",
      "79/79 [==============================] - 1s 13ms/step - loss: 0.4784 - acc: 0.8390 - val_loss: 1.1994 - val_acc: 0.6633\n",
      "Epoch 11/25\n",
      "79/79 [==============================] - 1s 13ms/step - loss: 0.3962 - acc: 0.8620 - val_loss: 0.9391 - val_acc: 0.7415\n",
      "Epoch 12/25\n",
      "79/79 [==============================] - 1s 14ms/step - loss: 0.3163 - acc: 0.8842 - val_loss: 1.8260 - val_acc: 0.6531\n",
      "Epoch 13/25\n",
      "79/79 [==============================] - 1s 14ms/step - loss: 0.3237 - acc: 0.8978 - val_loss: 0.6608 - val_acc: 0.8469\n",
      "Epoch 14/25\n",
      "79/79 [==============================] - 1s 13ms/step - loss: 0.2293 - acc: 0.9259 - val_loss: 0.7248 - val_acc: 0.8163\n",
      "Epoch 15/25\n",
      "79/79 [==============================] - 1s 14ms/step - loss: 0.2039 - acc: 0.9412 - val_loss: 0.6266 - val_acc: 0.8367\n",
      "Epoch 16/25\n",
      "79/79 [==============================] - 1s 14ms/step - loss: 0.1902 - acc: 0.9336 - val_loss: 1.2101 - val_acc: 0.7619\n",
      "Epoch 17/25\n",
      "79/79 [==============================] - 1s 14ms/step - loss: 0.3480 - acc: 0.8935 - val_loss: 0.6460 - val_acc: 0.8265\n",
      "Epoch 18/25\n",
      "79/79 [==============================] - 1s 14ms/step - loss: 0.1488 - acc: 0.9549 - val_loss: 0.5956 - val_acc: 0.8673\n",
      "Epoch 19/25\n",
      "79/79 [==============================] - 1s 14ms/step - loss: 0.1527 - acc: 0.9463 - val_loss: 0.5298 - val_acc: 0.8435\n",
      "Epoch 20/25\n",
      "79/79 [==============================] - 1s 15ms/step - loss: 0.0965 - acc: 0.9710 - val_loss: 0.4311 - val_acc: 0.8639\n",
      "Epoch 21/25\n",
      "79/79 [==============================] - 1s 14ms/step - loss: 0.1382 - acc: 0.9659 - val_loss: 0.6405 - val_acc: 0.8401\n",
      "Epoch 22/25\n",
      "79/79 [==============================] - 1s 14ms/step - loss: 0.1590 - acc: 0.9480 - val_loss: 0.4199 - val_acc: 0.8980\n",
      "Epoch 23/25\n",
      "79/79 [==============================] - 1s 14ms/step - loss: 0.0570 - acc: 0.9872 - val_loss: 0.4115 - val_acc: 0.9082\n",
      "Epoch 24/25\n",
      "79/79 [==============================] - 1s 14ms/step - loss: 0.0625 - acc: 0.9847 - val_loss: 0.6269 - val_acc: 0.8333\n",
      "Epoch 25/25\n",
      "79/79 [==============================] - 1s 14ms/step - loss: 0.0848 - acc: 0.9744 - val_loss: 0.4828 - val_acc: 0.8741\n"
     ]
    }
   ],
   "source": [
    "batch_size = 15\n",
    "callback = tf.keras.callbacks.EarlyStopping(\n",
    "    monitor='val_loss', min_delta=0, patience=8, verbose=0, mode='auto',\n",
    "    baseline=None, restore_best_weights=False)\n",
    "\n",
    "history = model.fit(X_train,y_train,\n",
    "            validation_data=(X_test,y_test),\n",
    "            epochs=25,\n",
    "            callbacks = [callback],batch_size=batch_size)"
   ]
  },
  {
   "cell_type": "markdown",
   "metadata": {
    "id": "ihi2AQM5dTnq"
   },
   "source": [
    "Metrics\n",
    "\n",
    "\n",
    "\n"
   ]
  },
  {
   "cell_type": "code",
   "execution_count": 23,
   "metadata": {},
   "outputs": [
    {
     "name": "stdout",
     "output_type": "stream",
     "text": [
      "10/10 [==============================] - 1s 14ms/step\n"
     ]
    }
   ],
   "source": [
    "pred = model.predict(X_test)"
   ]
  },
  {
   "cell_type": "code",
   "execution_count": 24,
   "metadata": {},
   "outputs": [
    {
     "data": {
      "text/plain": [
       "array([13, 11,  8,  6,  9,  3,  4, 10, 11,  8,  6,  7, 10, 12,  7,  6,  0,\n",
       "       13,  5,  5,  0,  4,  5,  0,  2,  7,  0, 10,  7,  2,  8,  4, 14,  8,\n",
       "        8,  5,  0, 10,  3,  1, 14,  0,  6,  1,  2,  0,  1,  7, 11,  0,  4,\n",
       "        1, 10,  1,  8, 11, 13,  2,  9,  4, 14,  1,  2, 14,  0, 11,  0, 13,\n",
       "        6, 12,  5,  7,  1,  0,  5,  6,  9, 14,  7,  4, 10,  9,  1,  1, 13,\n",
       "        1,  2,  3, 10,  8,  2,  7,  1,  1,  3,  0,  6,  9,  1, 10,  5,  6,\n",
       "       10,  3,  1,  4,  2,  3,  0,  2,  3,  9, 12,  4,  8, 13,  0,  6, 14,\n",
       "        7,  3,  1, 12,  1, 14,  4, 14,  0, 11, 11,  2, 13,  4, 13, 11, 13,\n",
       "        4,  6,  5, 13,  9,  7,  0, 10, 10, 10, 13,  3,  1,  3,  1,  2, 14,\n",
       "       10,  6, 12,  6, 12,  2,  5,  6,  7,  7,  0,  6,  7,  7, 14,  4,  0,\n",
       "        5, 12,  1,  7,  6,  4,  3, 14, 10,  2, 13,  0, 10,  4,  3, 10,  1,\n",
       "        2,  9,  8,  9,  8,  9,  5, 13, 13, 13, 14,  3,  1, 14,  2,  6, 11,\n",
       "       11,  7, 12,  3,  2,  4,  0,  8,  3,  0,  1,  4,  5,  2,  1,  6,  1,\n",
       "        1,  4,  5,  5, 10,  8,  6, 10, 12,  7,  1, 12,  8,  0, 11,  3, 14,\n",
       "        9,  3,  5, 13, 10,  5, 10,  1, 10,  0,  0,  7,  6, 11,  5,  8, 14,\n",
       "        6,  9,  1, 10, 11,  3,  8,  0,  9,  0, 10, 13,  4,  1, 14,  9,  7,\n",
       "        4,  3, 10,  3,  5,  6,  7,  8, 10,  5, 12, 10,  6,  7, 12,  4, 11,\n",
       "       10,  5,  5, 13,  3], dtype=int64)"
      ]
     },
     "execution_count": 24,
     "metadata": {},
     "output_type": "execute_result"
    }
   ],
   "source": [
    "np.argmax(y_test,1)"
   ]
  },
  {
   "cell_type": "code",
   "execution_count": 25,
   "metadata": {
    "colab": {
     "base_uri": "https://localhost:8080/"
    },
    "id": "vUjxCjI-VzcZ",
    "outputId": "71eed56e-19d9-4845-b675-881d4a7f9405",
    "scrolled": true
   },
   "outputs": [
    {
     "name": "stdout",
     "output_type": "stream",
     "text": [
      "                  precision    recall  f1-score   support\n",
      "\n",
      "             dog       1.00      0.85      0.92        26\n",
      "  chirping_birds       0.90      0.97      0.93        29\n",
      " door_wood_knock       0.79      0.88      0.83        17\n",
      "        airplane       0.95      0.95      0.95        21\n",
      "     mouse_click       0.81      0.65      0.72        20\n",
      " keyboard_typing       0.91      0.95      0.93        21\n",
      "            wind       0.95      0.82      0.88        22\n",
      "       footsteps       0.85      0.81      0.83        21\n",
      "        car_horn       0.76      1.00      0.86        16\n",
      "drinking_sipping       0.80      0.86      0.83        14\n",
      "         insects       0.84      0.78      0.81        27\n",
      "        coughing       0.79      0.79      0.79        14\n",
      "        sneezing       0.86      1.00      0.92        12\n",
      "             cat       0.89      0.94      0.92        18\n",
      "door_wood_creaks       0.94      0.94      0.94        16\n",
      "\n",
      "        accuracy                           0.87       294\n",
      "       macro avg       0.87      0.88      0.87       294\n",
      "    weighted avg       0.88      0.87      0.87       294\n",
      "\n"
     ]
    }
   ],
   "source": [
    "from sklearn.metrics import classification_report\n",
    "print(classification_report(np.argmax(y_test,1), np.argmax(pred,1), target_names=classes))\n",
    "#number of records in the test set=support"
   ]
  },
  {
   "cell_type": "markdown",
   "metadata": {
    "id": "h7a9awBadYVm"
   },
   "source": [
    "### Сonfusion matrix"
   ]
  },
  {
   "cell_type": "markdown",
   "metadata": {
    "id": "R8f49QfpzVhm"
   },
   "source": [
    "Using this matrix, you can understand in which classes\n",
    "\n",
    "\n",
    "model is wrong. (i.e. which class gets confused with the other)"
   ]
  },
  {
   "cell_type": "code",
   "execution_count": 26,
   "metadata": {
    "id": "IldZacubVzZa"
   },
   "outputs": [],
   "source": [
    "from sklearn.metrics import confusion_matrix\n",
    "cm = confusion_matrix(np.argmax(y_test,1), np.argmax(pred,1))"
   ]
  },
  {
   "cell_type": "code",
   "execution_count": 27,
   "metadata": {
    "colab": {
     "base_uri": "https://localhost:8080/",
     "height": 1000
    },
    "id": "sQu_Fm9HVMdu",
    "outputId": "48df4712-05f7-4696-9406-31799023b8ae"
   },
   "outputs": [
    {
     "data": {
      "text/plain": [
       "<Axes: >"
      ]
     },
     "execution_count": 27,
     "metadata": {},
     "output_type": "execute_result"
    },
    {
     "data": {
      "image/png": "[encoded data removed]",
      "text/plain": [
       "<Figure size 3000x3000 with 2 Axes>"
      ]
     },
     "metadata": {},
     "output_type": "display_data"
    }
   ],
   "source": [
    "import seaborn as snNew\n",
    "fig, ax = plt.subplots(figsize=(30,30))\n",
    "snNew.heatmap(cm, annot=True, xticklabels= classes, yticklabels= classes)"
   ]
  },
  {
   "cell_type": "code",
   "execution_count": 28,
   "metadata": {},
   "outputs": [
    {
     "name": "stderr",
     "output_type": "stream",
     "text": [
      "Progress: 0it [00:00, ?it/s]C:\\Users\\moham\\AppData\\Local\\Temp\\ipykernel_6292\\2418299846.py:4: FutureWarning: Series.__getitem__ treating keys as positions is deprecated. In a future version, integer keys will always be treated as labels (consistent with DataFrame behavior). To access a value by position, use `ser.iloc[pos]`\n",
      "  sig , sr = librosa.load(AUDIO_PATH + \"\\\\\" + data[1][0],sr = 44100)\n",
      "C:\\Users\\moham\\AppData\\Local\\Temp\\ipykernel_6292\\2418299846.py:8: FutureWarning: Series.__getitem__ treating keys as positions is deprecated. In a future version, integer keys will always be treated as labels (consistent with DataFrame behavior). To access a value by position, use `ser.iloc[pos]`\n",
      "  y1.append(data[1][1])\n",
      "Progress: 600it [00:04, 126.21it/s]\n"
     ]
    }
   ],
   "source": [
    "x1 = []\n",
    "y1 = []\n",
    "for data in tqdm(df.iterrows(),  desc='Progress'):\n",
    "        sig , sr = librosa.load(AUDIO_PATH + \"\\\\\" + data[1][0],sr = 44100)\n",
    "        sig_ = sig[0 : 110250]\n",
    "        mfcc_ = librosa.feature.mfcc(y=sig_ , sr=sr,hop_length = 640 , n_mfcc=40,dct_type=2)\n",
    "        x1.append(mfcc_)\n",
    "        y1.append(data[1][1])\n",
    "    "
   ]
  },
  {
   "cell_type": "code",
   "execution_count": 29,
   "metadata": {},
   "outputs": [],
   "source": [
    "x1 = np.array(x1) \n",
    "y1 = np.array(y1)"
   ]
  },
  {
   "cell_type": "code",
   "execution_count": 30,
   "metadata": {},
   "outputs": [
    {
     "name": "stdout",
     "output_type": "stream",
     "text": [
      "X Shape is:  (600, 40, 173)\n",
      "y Shape is:  (600,)\n"
     ]
    }
   ],
   "source": [
    "print(\"X Shape is: \", x1.shape)\n",
    "print(\"y Shape is: \", y1.shape)"
   ]
  },
  {
   "cell_type": "code",
   "execution_count": 31,
   "metadata": {},
   "outputs": [],
   "source": [
    "y1 = tf.keras.utils.to_categorical(y1 , num_classes=50)\n",
    "x1 = x1.reshape(x1.shape[0], x1.shape[1], x1.shape[2], 1)"
   ]
  },
  {
   "cell_type": "code",
   "execution_count": 32,
   "metadata": {},
   "outputs": [
    {
     "name": "stdout",
     "output_type": "stream",
     "text": [
      "19/19 [==============================] - 0s 19ms/step\n"
     ]
    }
   ],
   "source": [
    "pred = model.predict(x1)"
   ]
  },
  {
   "cell_type": "code",
   "execution_count": 33,
   "metadata": {},
   "outputs": [
    {
     "name": "stdout",
     "output_type": "stream",
     "text": [
      "                  precision    recall  f1-score   support\n",
      "\n",
      "             dog       0.97      0.88      0.92        40\n",
      "  chirping_birds       1.00      1.00      1.00        40\n",
      " door_wood_knock       0.85      1.00      0.92        40\n",
      "        airplane       0.97      0.97      0.97        40\n",
      "     mouse_click       0.84      0.93      0.88        40\n",
      " keyboard_typing       1.00      1.00      1.00        40\n",
      "            wind       0.97      0.90      0.94        40\n",
      "       footsteps       0.93      0.95      0.94        40\n",
      "        car_horn       0.87      0.97      0.92        40\n",
      "drinking_sipping       0.90      0.88      0.89        40\n",
      "         insects       0.95      0.93      0.94        40\n",
      "        coughing       1.00      0.78      0.87        40\n",
      "        sneezing       0.87      0.97      0.92        40\n",
      "             cat       0.97      0.95      0.96        40\n",
      "door_wood_creaks       1.00      0.93      0.96        40\n",
      "\n",
      "        accuracy                           0.94       600\n",
      "       macro avg       0.94      0.94      0.93       600\n",
      "    weighted avg       0.94      0.94      0.93       600\n",
      "\n"
     ]
    }
   ],
   "source": [
    "from sklearn.metrics import classification_report\n",
    "print(classification_report(np.argmax(y1,1), np.argmax(pred,1), target_names=classes))"
   ]
  },
  {
   "cell_type": "code",
   "execution_count": 34,
   "metadata": {},
   "outputs": [],
   "source": [
    "test_path = r\"C:\\Users\\moham\\Desktop\\noise_classification\\concatenated audio(15 noises)\"\n",
    "file_names = os.listdir(test_path)"
   ]
  },
  {
   "cell_type": "code",
   "execution_count": 35,
   "metadata": {},
   "outputs": [],
   "source": [
    "concat_test = []"
   ]
  },
  {
   "cell_type": "code",
   "execution_count": 36,
   "metadata": {},
   "outputs": [
    {
     "name": "stderr",
     "output_type": "stream",
     "text": [
      "100%|██████████| 225/225 [00:01<00:00, 125.46it/s]\n"
     ]
    }
   ],
   "source": [
    "for i in tqdm(file_names):\n",
    "    sig , sr = librosa.load(test_path + \"\\\\\" + i,sr = 44100)\n",
    "    sig_ = sig[0 : 441000]\n",
    "    mfcc_ = librosa.feature.mfcc(y=sig_ , sr=sr,hop_length = 2550 , n_mfcc=40,dct_type=2)\n",
    "    concat_test.append(mfcc_)\n",
    "    #y1.append(data[1][1])\n",
    "    "
   ]
  },
  {
   "cell_type": "code",
   "execution_count": 37,
   "metadata": {},
   "outputs": [
    {
     "data": {
      "text/plain": [
       "441000"
      ]
     },
     "execution_count": 37,
     "metadata": {},
     "output_type": "execute_result"
    }
   ],
   "source": [
    "len(sig)"
   ]
  },
  {
   "cell_type": "code",
   "execution_count": 38,
   "metadata": {},
   "outputs": [],
   "source": [
    "concat_test = np.array(concat_test)"
   ]
  },
  {
   "cell_type": "code",
   "execution_count": 39,
   "metadata": {},
   "outputs": [],
   "source": [
    "concat_test = concat_test.reshape(concat_test.shape[0], concat_test.shape[1], concat_test.shape[2], 1)"
   ]
  },
  {
   "cell_type": "code",
   "execution_count": 40,
   "metadata": {},
   "outputs": [
    {
     "data": {
      "text/plain": [
       "(225, 40, 173, 1)"
      ]
     },
     "execution_count": 40,
     "metadata": {},
     "output_type": "execute_result"
    }
   ],
   "source": [
    "concat_test.shape"
   ]
  },
  {
   "cell_type": "code",
   "execution_count": 41,
   "metadata": {},
   "outputs": [],
   "source": [
    "concat_test = np.array(concat_test)"
   ]
  },
  {
   "cell_type": "code",
   "execution_count": 42,
   "metadata": {},
   "outputs": [
    {
     "name": "stdout",
     "output_type": "stream",
     "text": [
      "8/8 [==============================] - 0s 50ms/step\n"
     ]
    }
   ],
   "source": [
    "prediction = model.predict(concat_test)"
   ]
  },
  {
   "cell_type": "code",
   "execution_count": 43,
   "metadata": {},
   "outputs": [],
   "source": [
    "prediction_result=[]\n",
    "for i in classes[np.argmax(prediction,1)]:\n",
    "    prediction_result.append(i)"
   ]
  },
  {
   "cell_type": "code",
   "execution_count": 44,
   "metadata": {},
   "outputs": [
    {
     "name": "stdout",
     "output_type": "stream",
     "text": [
      "airplane\n",
      "car_horn\n",
      "car_horn\n",
      "chirping_birds\n",
      "drinking_sipping\n",
      "footsteps\n",
      "airplane\n",
      "footsteps\n",
      "footsteps\n",
      "footsteps\n",
      "car_horn\n",
      "airplane\n",
      "footsteps\n",
      "footsteps\n",
      "airplane\n",
      "car_horn\n",
      "car_horn\n",
      "cat\n",
      "car_horn\n",
      "car_horn\n",
      "car_horn\n",
      "car_horn\n",
      "car_horn\n",
      "car_horn\n",
      "car_horn\n",
      "car_horn\n",
      "car_horn\n",
      "car_horn\n",
      "car_horn\n",
      "car_horn\n",
      "car_horn\n",
      "cat\n",
      "cat\n",
      "sneezing\n",
      "cat\n",
      "cat\n",
      "cat\n",
      "cat\n",
      "cat\n",
      "cat\n",
      "cat\n",
      "cat\n",
      "cat\n",
      "cat\n",
      "dog\n",
      "airplane\n",
      "car_horn\n",
      "cat\n",
      "chirping_birds\n",
      "sneezing\n",
      "footsteps\n",
      "sneezing\n",
      "sneezing\n",
      "sneezing\n",
      "footsteps\n",
      "chirping_birds\n",
      "sneezing\n",
      "footsteps\n",
      "sneezing\n",
      "chirping_birds\n",
      "drinking_sipping\n",
      "car_horn\n",
      "cat\n",
      "sneezing\n",
      "drinking_sipping\n",
      "drinking_sipping\n",
      "door_wood_creaks\n",
      "door_wood_knock\n",
      "drinking_sipping\n",
      "footsteps\n",
      "insects\n",
      "drinking_sipping\n",
      "footsteps\n",
      "drinking_sipping\n",
      "drinking_sipping\n",
      "footsteps\n",
      "car_horn\n",
      "cat\n",
      "footsteps\n",
      "drinking_sipping\n",
      "footsteps\n",
      "door_wood_creaks\n",
      "door_wood_knock\n",
      "drinking_sipping\n",
      "footsteps\n",
      "footsteps\n",
      "drinking_sipping\n",
      "footsteps\n",
      "footsteps\n",
      "footsteps\n",
      "airplane\n",
      "car_horn\n",
      "cat\n",
      "sneezing\n",
      "door_wood_creaks\n",
      "door_wood_creaks\n",
      "door_wood_creaks\n",
      "door_wood_creaks\n",
      "door_wood_creaks\n",
      "footsteps\n",
      "insects\n",
      "door_wood_creaks\n",
      "footsteps\n",
      "door_wood_creaks\n",
      "footsteps\n",
      "footsteps\n",
      "car_horn\n",
      "cat\n",
      "sneezing\n",
      "door_wood_knock\n",
      "door_wood_knock\n",
      "door_wood_creaks\n",
      "door_wood_knock\n",
      "door_wood_knock\n",
      "footsteps\n",
      "door_wood_knock\n",
      "drinking_sipping\n",
      "door_wood_knock\n",
      "drinking_sipping\n",
      "door_wood_knock\n",
      "footsteps\n",
      "car_horn\n",
      "cat\n",
      "sneezing\n",
      "drinking_sipping\n",
      "drinking_sipping\n",
      "door_wood_creaks\n",
      "door_wood_knock\n",
      "drinking_sipping\n",
      "footsteps\n",
      "drinking_sipping\n",
      "drinking_sipping\n",
      "footsteps\n",
      "drinking_sipping\n",
      "footsteps\n",
      "footsteps\n",
      "car_horn\n",
      "cat\n",
      "footsteps\n",
      "footsteps\n",
      "footsteps\n",
      "footsteps\n",
      "door_wood_knock\n",
      "footsteps\n",
      "footsteps\n",
      "footsteps\n",
      "footsteps\n",
      "footsteps\n",
      "footsteps\n",
      "footsteps\n",
      "airplane\n",
      "car_horn\n",
      "cat\n",
      "chirping_birds\n",
      "drinking_sipping\n",
      "footsteps\n",
      "cat\n",
      "door_wood_knock\n",
      "cat\n",
      "footsteps\n",
      "insects\n",
      "keyboard_typing\n",
      "insects\n",
      "keyboard_typing\n",
      "insects\n",
      "footsteps\n",
      "car_horn\n",
      "cat\n",
      "sneezing\n",
      "drinking_sipping\n",
      "drinking_sipping\n",
      "door_wood_creaks\n",
      "drinking_sipping\n",
      "drinking_sipping\n",
      "footsteps\n",
      "keyboard_typing\n",
      "keyboard_typing\n",
      "keyboard_typing\n",
      "drinking_sipping\n",
      "footsteps\n",
      "footsteps\n",
      "car_horn\n",
      "cat\n",
      "footsteps\n",
      "footsteps\n",
      "footsteps\n",
      "footsteps\n",
      "door_wood_knock\n",
      "footsteps\n",
      "footsteps\n",
      "insects\n",
      "keyboard_typing\n",
      "mouse_click\n",
      "footsteps\n",
      "footsteps\n",
      "footsteps\n",
      "car_horn\n",
      "cat\n",
      "sneezing\n",
      "drinking_sipping\n",
      "drinking_sipping\n",
      "door_wood_creaks\n",
      "drinking_sipping\n",
      "drinking_sipping\n",
      "footsteps\n",
      "drinking_sipping\n",
      "drinking_sipping\n",
      "drinking_sipping\n",
      "drinking_sipping\n",
      "footsteps\n",
      "airplane\n",
      "car_horn\n",
      "cat\n",
      "chirping_birds\n",
      "drinking_sipping\n",
      "footsteps\n",
      "footsteps\n",
      "door_wood_knock\n",
      "footsteps\n",
      "footsteps\n",
      "insects\n",
      "footsteps\n",
      "footsteps\n",
      "footsteps\n",
      "wind\n"
     ]
    }
   ],
   "source": [
    "for i in classes[np.argmax(prediction,1)]:\n",
    "    print(i)"
   ]
  },
  {
   "cell_type": "code",
   "execution_count": 45,
   "metadata": {},
   "outputs": [
    {
     "data": {
      "text/plain": [
       "['airplane',\n",
       " 'car_horn',\n",
       " 'car_horn',\n",
       " 'chirping_birds',\n",
       " 'drinking_sipping',\n",
       " 'footsteps',\n",
       " 'airplane',\n",
       " 'footsteps',\n",
       " 'footsteps',\n",
       " 'footsteps',\n",
       " 'car_horn',\n",
       " 'airplane',\n",
       " 'footsteps',\n",
       " 'footsteps',\n",
       " 'airplane',\n",
       " 'car_horn',\n",
       " 'car_horn',\n",
       " 'cat',\n",
       " 'car_horn',\n",
       " 'car_horn',\n",
       " 'car_horn',\n",
       " 'car_horn',\n",
       " 'car_horn',\n",
       " 'car_horn',\n",
       " 'car_horn',\n",
       " 'car_horn',\n",
       " 'car_horn',\n",
       " 'car_horn',\n",
       " 'car_horn',\n",
       " 'car_horn',\n",
       " 'car_horn',\n",
       " 'cat',\n",
       " 'cat',\n",
       " 'sneezing',\n",
       " 'cat',\n",
       " 'cat',\n",
       " 'cat',\n",
       " 'cat',\n",
       " 'cat',\n",
       " 'cat',\n",
       " 'cat',\n",
       " 'cat',\n",
       " 'cat',\n",
       " 'cat',\n",
       " 'dog',\n",
       " 'airplane',\n",
       " 'car_horn',\n",
       " 'cat',\n",
       " 'chirping_birds',\n",
       " 'sneezing',\n",
       " 'footsteps',\n",
       " 'sneezing',\n",
       " 'sneezing',\n",
       " 'sneezing',\n",
       " 'footsteps',\n",
       " 'chirping_birds',\n",
       " 'sneezing',\n",
       " 'footsteps',\n",
       " 'sneezing',\n",
       " 'chirping_birds',\n",
       " 'drinking_sipping',\n",
       " 'car_horn',\n",
       " 'cat',\n",
       " 'sneezing',\n",
       " 'drinking_sipping',\n",
       " 'drinking_sipping',\n",
       " 'door_wood_creaks',\n",
       " 'door_wood_knock',\n",
       " 'drinking_sipping',\n",
       " 'footsteps',\n",
       " 'insects',\n",
       " 'drinking_sipping',\n",
       " 'footsteps',\n",
       " 'drinking_sipping',\n",
       " 'drinking_sipping',\n",
       " 'footsteps',\n",
       " 'car_horn',\n",
       " 'cat',\n",
       " 'footsteps',\n",
       " 'drinking_sipping',\n",
       " 'footsteps',\n",
       " 'door_wood_creaks',\n",
       " 'door_wood_knock',\n",
       " 'drinking_sipping',\n",
       " 'footsteps',\n",
       " 'footsteps',\n",
       " 'drinking_sipping',\n",
       " 'footsteps',\n",
       " 'footsteps',\n",
       " 'footsteps',\n",
       " 'airplane',\n",
       " 'car_horn',\n",
       " 'cat',\n",
       " 'sneezing',\n",
       " 'door_wood_creaks',\n",
       " 'door_wood_creaks',\n",
       " 'door_wood_creaks',\n",
       " 'door_wood_creaks',\n",
       " 'door_wood_creaks',\n",
       " 'footsteps',\n",
       " 'insects',\n",
       " 'door_wood_creaks',\n",
       " 'footsteps',\n",
       " 'door_wood_creaks',\n",
       " 'footsteps',\n",
       " 'footsteps',\n",
       " 'car_horn',\n",
       " 'cat',\n",
       " 'sneezing',\n",
       " 'door_wood_knock',\n",
       " 'door_wood_knock',\n",
       " 'door_wood_creaks',\n",
       " 'door_wood_knock',\n",
       " 'door_wood_knock',\n",
       " 'footsteps',\n",
       " 'door_wood_knock',\n",
       " 'drinking_sipping',\n",
       " 'door_wood_knock',\n",
       " 'drinking_sipping',\n",
       " 'door_wood_knock',\n",
       " 'footsteps',\n",
       " 'car_horn',\n",
       " 'cat',\n",
       " 'sneezing',\n",
       " 'drinking_sipping',\n",
       " 'drinking_sipping',\n",
       " 'door_wood_creaks',\n",
       " 'door_wood_knock',\n",
       " 'drinking_sipping',\n",
       " 'footsteps',\n",
       " 'drinking_sipping',\n",
       " 'drinking_sipping',\n",
       " 'footsteps',\n",
       " 'drinking_sipping',\n",
       " 'footsteps',\n",
       " 'footsteps',\n",
       " 'car_horn',\n",
       " 'cat',\n",
       " 'footsteps',\n",
       " 'footsteps',\n",
       " 'footsteps',\n",
       " 'footsteps',\n",
       " 'door_wood_knock',\n",
       " 'footsteps',\n",
       " 'footsteps',\n",
       " 'footsteps',\n",
       " 'footsteps',\n",
       " 'footsteps',\n",
       " 'footsteps',\n",
       " 'footsteps',\n",
       " 'airplane',\n",
       " 'car_horn',\n",
       " 'cat',\n",
       " 'chirping_birds',\n",
       " 'drinking_sipping',\n",
       " 'footsteps',\n",
       " 'cat',\n",
       " 'door_wood_knock',\n",
       " 'cat',\n",
       " 'footsteps',\n",
       " 'insects',\n",
       " 'keyboard_typing',\n",
       " 'insects',\n",
       " 'keyboard_typing',\n",
       " 'insects',\n",
       " 'footsteps',\n",
       " 'car_horn',\n",
       " 'cat',\n",
       " 'sneezing',\n",
       " 'drinking_sipping',\n",
       " 'drinking_sipping',\n",
       " 'door_wood_creaks',\n",
       " 'drinking_sipping',\n",
       " 'drinking_sipping',\n",
       " 'footsteps',\n",
       " 'keyboard_typing',\n",
       " 'keyboard_typing',\n",
       " 'keyboard_typing',\n",
       " 'drinking_sipping',\n",
       " 'footsteps',\n",
       " 'footsteps',\n",
       " 'car_horn',\n",
       " 'cat',\n",
       " 'footsteps',\n",
       " 'footsteps',\n",
       " 'footsteps',\n",
       " 'footsteps',\n",
       " 'door_wood_knock',\n",
       " 'footsteps',\n",
       " 'footsteps',\n",
       " 'insects',\n",
       " 'keyboard_typing',\n",
       " 'mouse_click',\n",
       " 'footsteps',\n",
       " 'footsteps',\n",
       " 'footsteps',\n",
       " 'car_horn',\n",
       " 'cat',\n",
       " 'sneezing',\n",
       " 'drinking_sipping',\n",
       " 'drinking_sipping',\n",
       " 'door_wood_creaks',\n",
       " 'drinking_sipping',\n",
       " 'drinking_sipping',\n",
       " 'footsteps',\n",
       " 'drinking_sipping',\n",
       " 'drinking_sipping',\n",
       " 'drinking_sipping',\n",
       " 'drinking_sipping',\n",
       " 'footsteps',\n",
       " 'airplane',\n",
       " 'car_horn',\n",
       " 'cat',\n",
       " 'chirping_birds',\n",
       " 'drinking_sipping',\n",
       " 'footsteps',\n",
       " 'footsteps',\n",
       " 'door_wood_knock',\n",
       " 'footsteps',\n",
       " 'footsteps',\n",
       " 'insects',\n",
       " 'footsteps',\n",
       " 'footsteps',\n",
       " 'footsteps',\n",
       " 'wind']"
      ]
     },
     "execution_count": 45,
     "metadata": {},
     "output_type": "execute_result"
    }
   ],
   "source": [
    "prediction_result"
   ]
  },
  {
   "cell_type": "code",
   "execution_count": 46,
   "metadata": {},
   "outputs": [
    {
     "name": "stdout",
     "output_type": "stream",
     "text": [
      "1\n",
      "1\n",
      "0\n",
      "1\n",
      "0\n",
      "0\n",
      "1\n",
      "0\n",
      "0\n",
      "1\n",
      "0\n",
      "1\n",
      "0\n",
      "0\n",
      "1\n",
      "1\n",
      "1\n",
      "1\n",
      "1\n",
      "1\n",
      "1\n",
      "1\n",
      "1\n",
      "1\n",
      "1\n",
      "1\n",
      "1\n",
      "1\n",
      "1\n",
      "1\n",
      "0\n",
      "1\n",
      "1\n",
      "0\n",
      "1\n",
      "1\n",
      "1\n",
      "1\n",
      "1\n",
      "1\n",
      "1\n",
      "1\n",
      "1\n",
      "1\n",
      "0\n",
      "1\n",
      "1\n",
      "1\n",
      "1\n",
      "0\n",
      "0\n",
      "0\n",
      "0\n",
      "0\n",
      "1\n",
      "1\n",
      "0\n",
      "0\n",
      "1\n",
      "1\n",
      "0\n",
      "1\n",
      "1\n",
      "0\n",
      "0\n",
      "0\n",
      "1\n",
      "1\n",
      "1\n",
      "1\n",
      "1\n",
      "0\n",
      "0\n",
      "0\n",
      "0\n",
      "0\n",
      "1\n",
      "1\n",
      "0\n",
      "0\n",
      "0\n",
      "1\n",
      "1\n",
      "1\n",
      "1\n",
      "0\n",
      "0\n",
      "0\n",
      "0\n",
      "0\n",
      "1\n",
      "1\n",
      "1\n",
      "0\n",
      "1\n",
      "1\n",
      "1\n",
      "1\n",
      "1\n",
      "1\n",
      "1\n",
      "1\n",
      "0\n",
      "1\n",
      "0\n",
      "0\n",
      "1\n",
      "1\n",
      "0\n",
      "1\n",
      "1\n",
      "1\n",
      "1\n",
      "1\n",
      "1\n",
      "1\n",
      "0\n",
      "1\n",
      "0\n",
      "1\n",
      "0\n",
      "1\n",
      "1\n",
      "0\n",
      "1\n",
      "1\n",
      "1\n",
      "1\n",
      "1\n",
      "1\n",
      "1\n",
      "1\n",
      "0\n",
      "1\n",
      "0\n",
      "1\n",
      "1\n",
      "1\n",
      "1\n",
      "1\n",
      "1\n",
      "1\n",
      "1\n",
      "1\n",
      "1\n",
      "1\n",
      "1\n",
      "1\n",
      "1\n",
      "1\n",
      "1\n",
      "1\n",
      "1\n",
      "1\n",
      "0\n",
      "0\n",
      "0\n",
      "1\n",
      "0\n",
      "1\n",
      "1\n",
      "1\n",
      "1\n",
      "0\n",
      "1\n",
      "0\n",
      "1\n",
      "1\n",
      "0\n",
      "0\n",
      "0\n",
      "1\n",
      "0\n",
      "1\n",
      "1\n",
      "1\n",
      "1\n",
      "1\n",
      "0\n",
      "0\n",
      "0\n",
      "1\n",
      "1\n",
      "0\n",
      "0\n",
      "0\n",
      "0\n",
      "1\n",
      "0\n",
      "1\n",
      "1\n",
      "1\n",
      "0\n",
      "0\n",
      "0\n",
      "0\n",
      "1\n",
      "1\n",
      "1\n",
      "0\n",
      "0\n",
      "1\n",
      "0\n",
      "1\n",
      "1\n",
      "0\n",
      "0\n",
      "0\n",
      "0\n",
      "0\n",
      "1\n",
      "1\n",
      "1\n",
      "1\n",
      "0\n",
      "0\n",
      "0\n",
      "1\n",
      "0\n",
      "1\n",
      "1\n",
      "0\n",
      "0\n",
      "0\n",
      "1\n"
     ]
    }
   ],
   "source": [
    "count = 0\n",
    "for i in range(0,len(prediction_result)):\n",
    "    w = file_names[i].split(\".\")[0]\n",
    "    t = w.split(\"_and_\")\n",
    "    if prediction_result[i] in t:\n",
    "        print(1)\n",
    "        count = count+1\n",
    "    else:\n",
    "        print(0)"
   ]
  },
  {
   "cell_type": "code",
   "execution_count": null,
   "metadata": {},
   "outputs": [],
   "source": []
  },
  {
   "cell_type": "code",
   "execution_count": null,
   "metadata": {},
   "outputs": [],
   "source": []
  },
  {
   "cell_type": "code",
   "execution_count": null,
   "metadata": {},
   "outputs": [],
   "source": []
  }
 ],
 "metadata": {
  "accelerator": "TPU",
  "colab": {
   "collapsed_sections": [],
   "machine_shape": "hm",
   "name": "Copy of Noise_Final.ipynb",
   "provenance": []
  },
  "kernelspec": {
   "display_name": "Python 3 (ipykernel)",
   "language": "python",
   "name": "python3"
  },
  "language_info": {
   "codemirror_mode": {
    "name": "ipython",
    "version": 3
   },
   "file_extension": ".py",
   "mimetype": "text/x-python",
   "name": "python",
   "nbconvert_exporter": "python",
   "pygments_lexer": "ipython3",
   "version": "3.9.19"
  }
 },
 "nbformat": 4,
 "nbformat_minor": 4
}
